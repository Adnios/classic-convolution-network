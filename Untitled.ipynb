{
 "cells": [
  {
   "cell_type": "code",
   "execution_count": 1,
   "metadata": {},
   "outputs": [
    {
     "name": "stdout",
     "output_type": "stream",
     "text": [
      "[[6 4 5 1]\n",
      " [8 2 4 6]\n",
      " [8 1 1 2]\n",
      " [5 8 6 5]]\n"
     ]
    }
   ],
   "source": [
    "import numpy as np\n",
    "import tensorflow as tf\n",
    "np.set_printoptions(threshold=np.inf)\n",
    "\n",
    "np.random.seed(1)\n",
    "arr=np.random.randint(1,9,(4,4))\n",
    "print(arr)"
   ]
  },
  {
   "cell_type": "code",
   "execution_count": 11,
   "metadata": {},
   "outputs": [
    {
     "name": "stdout",
     "output_type": "stream",
     "text": [
      "Tensor(\"input_10:0\", shape=(None, 4, 4, 1), dtype=float32)\n",
      "(None, 4, 4, 1)\n",
      "Tensor(\"input_10:0\", shape=(None, 4, 4, 1), dtype=float32)\n",
      "(None, 4, 4, 1)\n",
      "[[0 0 0 0 0 0]\n",
      " [0 6 4 5 1 0]\n",
      " [0 8 2 4 6 0]\n",
      " [0 8 1 1 2 0]\n",
      " [0 5 8 6 5 0]\n",
      " [0 0 0 0 0 0]]\n"
     ]
    }
   ],
   "source": [
    "arr=arr.reshape(1,4,4,1)\n",
    "\n",
    "inp=tf.keras.Input((4,4,1))\n",
    "print(inp)\n",
    "print(inp.shape)\n",
    "x=tf.keras.layers.ZeroPadding2D(padding=1)(inp)\n",
    "print(inp)\n",
    "print(inp.shape)\n",
    "model=tf.keras.Model(inp,x)\n",
    "res=model(arr)\n",
    "print(res)\n",
    "tf.print(tf.squeeze(res))"
   ]
  }
 ],
 "metadata": {
  "kernelspec": {
   "display_name": "keras_learn_env",
   "language": "python",
   "name": "keras_learn_env"
  },
  "language_info": {
   "codemirror_mode": {
    "name": "ipython",
    "version": 3
   },
   "file_extension": ".py",
   "mimetype": "text/x-python",
   "name": "python",
   "nbconvert_exporter": "python",
   "pygments_lexer": "ipython3",
   "version": "3.6.9"
  }
 },
 "nbformat": 4,
 "nbformat_minor": 4
}
